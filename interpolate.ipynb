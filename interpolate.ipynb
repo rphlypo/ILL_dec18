{
 "cells": [
  {
   "cell_type": "code",
   "execution_count": 14,
   "metadata": {},
   "outputs": [],
   "source": [
    "import interp\n",
    "from importlib import reload\n",
    "reload(interp)\n",
    "import numpy as np"
   ]
  },
  {
   "cell_type": "code",
   "execution_count": 17,
   "metadata": {},
   "outputs": [],
   "source": [
    "x = range(101)\n",
    "y = [_ ** 2 for _ in x]\n",
    "x_ = [_/2 for _ in range(1, 200)]"
   ]
  },
  {
   "cell_type": "code",
   "execution_count": 18,
   "metadata": {},
   "outputs": [
    {
     "name": "stdout",
     "output_type": "stream",
     "text": [
      "3.03 ms ± 198 µs per loop (mean ± std. dev. of 7 runs, 100 loops each)\n",
      "132 µs ± 1.02 µs per loop (mean ± std. dev. of 7 runs, 10000 loops each)\n"
     ]
    }
   ],
   "source": [
    "%timeit y_ = interp.lin_interp_lists(x_, x, y)\n",
    "x, y, x_ = np.asarray(x), np.asarray(y), np.asarray(x_)\n",
    "%timeit y_ = interp.lin_interp(x_, x, y)"
   ]
  }
 ],
 "metadata": {
  "kernelspec": {
   "display_name": "Python 3",
   "language": "python",
   "name": "python3"
  },
  "language_info": {
   "codemirror_mode": {
    "name": "ipython",
    "version": 3
   },
   "file_extension": ".py",
   "mimetype": "text/x-python",
   "name": "python",
   "nbconvert_exporter": "python",
   "pygments_lexer": "ipython3",
   "version": "3.7.1"
  }
 },
 "nbformat": 4,
 "nbformat_minor": 2
}
